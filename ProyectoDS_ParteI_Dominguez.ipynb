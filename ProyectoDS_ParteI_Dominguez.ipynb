{
 "cells": [
  {
   "cell_type": "markdown",
   "metadata": {},
   "source": [
    "## Inicio - Dataset Car Prices\n",
    "\n",
    "Este dataset contiene información de ventas de autos de todo tipo y marcas variadas desde los mas caros del mercado hasta los más accesibles, cuenta con información sobre la venta, modelo, color, estado, etc.\n",
    "\n",
    "sellingprice es la variable objetivo a predecir. Significa: Precio de venta"
   ]
  },
  {
   "cell_type": "code",
   "execution_count": 1,
   "metadata": {},
   "outputs": [],
   "source": [
    "import pandas as pd\n",
    "import seaborn as sns\n",
    "import matplotlib.pyplot as plt"
   ]
  },
  {
   "cell_type": "markdown",
   "metadata": {},
   "source": [
    "Establecemos algunas configuraciones de estilo y de muestra de datos al utilizar Pandas y Seaborn"
   ]
  },
  {
   "cell_type": "code",
   "execution_count": 2,
   "metadata": {},
   "outputs": [],
   "source": [
    "pd.set_option('display.max_columns', None)\n",
    "pd.set_option(\"display.max_colwidth\", None)\n",
    "sns.set_style('darkgrid')"
   ]
  },
  {
   "cell_type": "markdown",
   "metadata": {},
   "source": [
    "## Lectura del dataset"
   ]
  },
  {
   "cell_type": "code",
   "execution_count": 3,
   "metadata": {},
   "outputs": [
    {
     "data": {
      "text/html": [
       "<div>\n",
       "<style scoped>\n",
       "    .dataframe tbody tr th:only-of-type {\n",
       "        vertical-align: middle;\n",
       "    }\n",
       "\n",
       "    .dataframe tbody tr th {\n",
       "        vertical-align: top;\n",
       "    }\n",
       "\n",
       "    .dataframe thead th {\n",
       "        text-align: right;\n",
       "    }\n",
       "</style>\n",
       "<table border=\"1\" class=\"dataframe\">\n",
       "  <thead>\n",
       "    <tr style=\"text-align: right;\">\n",
       "      <th></th>\n",
       "      <th>year</th>\n",
       "      <th>make</th>\n",
       "      <th>model</th>\n",
       "      <th>trim</th>\n",
       "      <th>body</th>\n",
       "      <th>transmission</th>\n",
       "      <th>vin</th>\n",
       "      <th>state</th>\n",
       "      <th>condition</th>\n",
       "      <th>odometer</th>\n",
       "      <th>color</th>\n",
       "      <th>interior</th>\n",
       "      <th>seller</th>\n",
       "      <th>mmr</th>\n",
       "      <th>sellingprice</th>\n",
       "      <th>saledate</th>\n",
       "    </tr>\n",
       "  </thead>\n",
       "  <tbody>\n",
       "    <tr>\n",
       "      <th>0</th>\n",
       "      <td>2015</td>\n",
       "      <td>Kia</td>\n",
       "      <td>Sorento</td>\n",
       "      <td>LX</td>\n",
       "      <td>SUV</td>\n",
       "      <td>automatic</td>\n",
       "      <td>5xyktca69fg566472</td>\n",
       "      <td>ca</td>\n",
       "      <td>5.0</td>\n",
       "      <td>16639.0</td>\n",
       "      <td>white</td>\n",
       "      <td>black</td>\n",
       "      <td>kia motors america  inc</td>\n",
       "      <td>20500.0</td>\n",
       "      <td>21500.0</td>\n",
       "      <td>Tue Dec 16 2014 12:30:00 GMT-0800 (PST)</td>\n",
       "    </tr>\n",
       "    <tr>\n",
       "      <th>1</th>\n",
       "      <td>2015</td>\n",
       "      <td>Kia</td>\n",
       "      <td>Sorento</td>\n",
       "      <td>LX</td>\n",
       "      <td>SUV</td>\n",
       "      <td>automatic</td>\n",
       "      <td>5xyktca69fg561319</td>\n",
       "      <td>ca</td>\n",
       "      <td>5.0</td>\n",
       "      <td>9393.0</td>\n",
       "      <td>white</td>\n",
       "      <td>beige</td>\n",
       "      <td>kia motors america  inc</td>\n",
       "      <td>20800.0</td>\n",
       "      <td>21500.0</td>\n",
       "      <td>Tue Dec 16 2014 12:30:00 GMT-0800 (PST)</td>\n",
       "    </tr>\n",
       "    <tr>\n",
       "      <th>2</th>\n",
       "      <td>2014</td>\n",
       "      <td>BMW</td>\n",
       "      <td>3 Series</td>\n",
       "      <td>328i SULEV</td>\n",
       "      <td>Sedan</td>\n",
       "      <td>automatic</td>\n",
       "      <td>wba3c1c51ek116351</td>\n",
       "      <td>ca</td>\n",
       "      <td>45.0</td>\n",
       "      <td>1331.0</td>\n",
       "      <td>gray</td>\n",
       "      <td>black</td>\n",
       "      <td>financial services remarketing (lease)</td>\n",
       "      <td>31900.0</td>\n",
       "      <td>30000.0</td>\n",
       "      <td>Thu Jan 15 2015 04:30:00 GMT-0800 (PST)</td>\n",
       "    </tr>\n",
       "    <tr>\n",
       "      <th>3</th>\n",
       "      <td>2015</td>\n",
       "      <td>Volvo</td>\n",
       "      <td>S60</td>\n",
       "      <td>T5</td>\n",
       "      <td>Sedan</td>\n",
       "      <td>automatic</td>\n",
       "      <td>yv1612tb4f1310987</td>\n",
       "      <td>ca</td>\n",
       "      <td>41.0</td>\n",
       "      <td>14282.0</td>\n",
       "      <td>white</td>\n",
       "      <td>black</td>\n",
       "      <td>volvo na rep/world omni</td>\n",
       "      <td>27500.0</td>\n",
       "      <td>27750.0</td>\n",
       "      <td>Thu Jan 29 2015 04:30:00 GMT-0800 (PST)</td>\n",
       "    </tr>\n",
       "    <tr>\n",
       "      <th>4</th>\n",
       "      <td>2014</td>\n",
       "      <td>BMW</td>\n",
       "      <td>6 Series Gran Coupe</td>\n",
       "      <td>650i</td>\n",
       "      <td>Sedan</td>\n",
       "      <td>automatic</td>\n",
       "      <td>wba6b2c57ed129731</td>\n",
       "      <td>ca</td>\n",
       "      <td>43.0</td>\n",
       "      <td>2641.0</td>\n",
       "      <td>gray</td>\n",
       "      <td>black</td>\n",
       "      <td>financial services remarketing (lease)</td>\n",
       "      <td>66000.0</td>\n",
       "      <td>67000.0</td>\n",
       "      <td>Thu Dec 18 2014 12:30:00 GMT-0800 (PST)</td>\n",
       "    </tr>\n",
       "  </tbody>\n",
       "</table>\n",
       "</div>"
      ],
      "text/plain": [
       "   year   make                model        trim   body transmission  \\\n",
       "0  2015    Kia              Sorento          LX    SUV    automatic   \n",
       "1  2015    Kia              Sorento          LX    SUV    automatic   \n",
       "2  2014    BMW             3 Series  328i SULEV  Sedan    automatic   \n",
       "3  2015  Volvo                  S60          T5  Sedan    automatic   \n",
       "4  2014    BMW  6 Series Gran Coupe        650i  Sedan    automatic   \n",
       "\n",
       "                 vin state  condition  odometer  color interior  \\\n",
       "0  5xyktca69fg566472    ca        5.0   16639.0  white    black   \n",
       "1  5xyktca69fg561319    ca        5.0    9393.0  white    beige   \n",
       "2  wba3c1c51ek116351    ca       45.0    1331.0   gray    black   \n",
       "3  yv1612tb4f1310987    ca       41.0   14282.0  white    black   \n",
       "4  wba6b2c57ed129731    ca       43.0    2641.0   gray    black   \n",
       "\n",
       "                                   seller      mmr  sellingprice  \\\n",
       "0                 kia motors america  inc  20500.0       21500.0   \n",
       "1                 kia motors america  inc  20800.0       21500.0   \n",
       "2  financial services remarketing (lease)  31900.0       30000.0   \n",
       "3                 volvo na rep/world omni  27500.0       27750.0   \n",
       "4  financial services remarketing (lease)  66000.0       67000.0   \n",
       "\n",
       "                                  saledate  \n",
       "0  Tue Dec 16 2014 12:30:00 GMT-0800 (PST)  \n",
       "1  Tue Dec 16 2014 12:30:00 GMT-0800 (PST)  \n",
       "2  Thu Jan 15 2015 04:30:00 GMT-0800 (PST)  \n",
       "3  Thu Jan 29 2015 04:30:00 GMT-0800 (PST)  \n",
       "4  Thu Dec 18 2014 12:30:00 GMT-0800 (PST)  "
      ]
     },
     "execution_count": 3,
     "metadata": {},
     "output_type": "execute_result"
    }
   ],
   "source": [
    "df = pd.read_csv(\"full_car_prices.csv\")\n",
    "df.head()"
   ]
  },
  {
   "cell_type": "markdown",
   "metadata": {},
   "source": [
    "## Descripcion de cada columna y tipo de dato que contiene\n",
    "\n",
    "- year: Año del modelo del auto (int64) [1982 al 2015]\n",
    "- make: Marca del auto (object) Ejemplos: ['Aston Martin', 'Audi', 'BMW', 'Cadillac', 'Chevrolet', 'Dodge', 'FIAT','Ferrari','Ford', 'Honda']\n",
    "- model: Modelo del auto (object) Ejemplos: ['tucson', 'tt', 'thunderbird','taurus', 'tahoe', 'tC', 'sx4', 'swift', 'subrbn','sprinter', 'sportage', 'sonoma']\n",
    "- trim: Versión del auto (object) Ejemplos: ['Wagon XLT','Wagon Titanium LWB', 'Wagon', 'WS', 'WRX TR', 'WRX STi','WRX STI Limited', 'WRX STI', 'WRX Limited']\n",
    "- body: Tipo de carrocería (object) Ejemplos: ['wagon', 'van', 'tsx sport wagon', 'transit van', 'suv','supercrew', 'supercab', 'sedan','quad cab', 'q60 coupe']\n",
    "- transmission: Tipo de transmisión (object) Ejemplos: ['manual', 'automatic']\n",
    "- vin: Número de identificación del vehículo (object)\n",
    "- state: Estado (object) Ejemplos: ['ny', 'nv', 'ns', 'nm', 'nj', 'ne', 'nc', 'ms', 'ma', 'la', 'in', 'il', 'hi', 'ga', 'fl','co', 'ca']\n",
    "- condition: Condición del auto (float64) [1 al 50]\n",
    "- odometer: Kilometraje del auto (float64)\n",
    "- color: Color exterior (object) Ejemplos: ['yellow', 'white', 'turquoise', 'silver', 'red', 'lime', 'green', 'gray', 'gold','charcoal','blue', 'black']\n",
    "- interior: Color interior (object) Ejemplos: ['yellow', 'white', 'tan', 'silver', 'red', 'purple', 'orange','burgundy','black', 'beige']\n",
    "- seller: Vendedor (object) Ejemplos: ['zygi auto corp', 'zumbrota ford sales llc', 'zuma autoboat','101motors', '1 for all auto sales', '1 cochran of monroeville']\n",
    "- mmr: Precio promedio de mercado (float64) Ejemplo: 21500.0\n",
    "- sellingprice: Precio de venta (float64) Ejemplo: 21500.0\n",
    "- saledate: Fecha de venta (object) Ejemplo: [Wed May 27 2015 17:00:00 GMT-0700 (PDT)]"
   ]
  },
  {
   "cell_type": "markdown",
   "metadata": {},
   "source": [
    "## Estadística descriptiva"
   ]
  },
  {
   "cell_type": "code",
   "execution_count": 245,
   "metadata": {},
   "outputs": [
    {
     "data": {
      "text/plain": [
       "(558837, 19)"
      ]
     },
     "execution_count": 245,
     "metadata": {},
     "output_type": "execute_result"
    }
   ],
   "source": [
    "df.shape"
   ]
  },
  {
   "cell_type": "markdown",
   "metadata": {},
   "source": [
    "El dataset elegido cuenta con 558837 filas y 16 columnas, de las cuales 10 (diez) son variables independientes a analizar y el target es sellingprice"
   ]
  },
  {
   "cell_type": "code",
   "execution_count": 11,
   "metadata": {},
   "outputs": [
    {
     "name": "stdout",
     "output_type": "stream",
     "text": [
      "<class 'pandas.core.frame.DataFrame'>\n",
      "RangeIndex: 558837 entries, 0 to 558836\n",
      "Data columns (total 16 columns):\n",
      " #   Column        Non-Null Count   Dtype  \n",
      "---  ------        --------------   -----  \n",
      " 0   year          558837 non-null  int64  \n",
      " 1   make          548536 non-null  object \n",
      " 2   model         548438 non-null  object \n",
      " 3   trim          548186 non-null  object \n",
      " 4   body          545642 non-null  object \n",
      " 5   transmission  493485 non-null  object \n",
      " 6   vin           558833 non-null  object \n",
      " 7   state         558837 non-null  object \n",
      " 8   condition     547017 non-null  float64\n",
      " 9   odometer      558743 non-null  float64\n",
      " 10  color         558088 non-null  object \n",
      " 11  interior      558088 non-null  object \n",
      " 12  seller        558837 non-null  object \n",
      " 13  mmr           558799 non-null  float64\n",
      " 14  sellingprice  558825 non-null  float64\n",
      " 15  saledate      558825 non-null  object \n",
      "dtypes: float64(4), int64(1), object(11)\n",
      "memory usage: 68.2+ MB\n"
     ]
    }
   ],
   "source": [
    "df.info(verbose = True)"
   ]
  },
  {
   "cell_type": "markdown",
   "metadata": {},
   "source": [
    "A pesar de ver varias columnas con algunos valores vacios el DataFrame esta bastante completo"
   ]
  },
  {
   "cell_type": "markdown",
   "metadata": {},
   "source": [
    "## Columnas categóricas"
   ]
  },
  {
   "cell_type": "code",
   "execution_count": 12,
   "metadata": {},
   "outputs": [
    {
     "data": {
      "text/html": [
       "<div>\n",
       "<style scoped>\n",
       "    .dataframe tbody tr th:only-of-type {\n",
       "        vertical-align: middle;\n",
       "    }\n",
       "\n",
       "    .dataframe tbody tr th {\n",
       "        vertical-align: top;\n",
       "    }\n",
       "\n",
       "    .dataframe thead th {\n",
       "        text-align: right;\n",
       "    }\n",
       "</style>\n",
       "<table border=\"1\" class=\"dataframe\">\n",
       "  <thead>\n",
       "    <tr style=\"text-align: right;\">\n",
       "      <th></th>\n",
       "      <th>count</th>\n",
       "      <th>unique</th>\n",
       "      <th>top</th>\n",
       "      <th>freq</th>\n",
       "    </tr>\n",
       "  </thead>\n",
       "  <tbody>\n",
       "    <tr>\n",
       "      <th>make</th>\n",
       "      <td>548536</td>\n",
       "      <td>96</td>\n",
       "      <td>Ford</td>\n",
       "      <td>93554</td>\n",
       "    </tr>\n",
       "    <tr>\n",
       "      <th>model</th>\n",
       "      <td>548438</td>\n",
       "      <td>973</td>\n",
       "      <td>Altima</td>\n",
       "      <td>19349</td>\n",
       "    </tr>\n",
       "    <tr>\n",
       "      <th>trim</th>\n",
       "      <td>548186</td>\n",
       "      <td>1963</td>\n",
       "      <td>Base</td>\n",
       "      <td>55817</td>\n",
       "    </tr>\n",
       "    <tr>\n",
       "      <th>body</th>\n",
       "      <td>545642</td>\n",
       "      <td>87</td>\n",
       "      <td>Sedan</td>\n",
       "      <td>199437</td>\n",
       "    </tr>\n",
       "    <tr>\n",
       "      <th>transmission</th>\n",
       "      <td>493485</td>\n",
       "      <td>4</td>\n",
       "      <td>automatic</td>\n",
       "      <td>475915</td>\n",
       "    </tr>\n",
       "    <tr>\n",
       "      <th>vin</th>\n",
       "      <td>558833</td>\n",
       "      <td>550297</td>\n",
       "      <td>automatic</td>\n",
       "      <td>22</td>\n",
       "    </tr>\n",
       "    <tr>\n",
       "      <th>state</th>\n",
       "      <td>558837</td>\n",
       "      <td>64</td>\n",
       "      <td>fl</td>\n",
       "      <td>82945</td>\n",
       "    </tr>\n",
       "    <tr>\n",
       "      <th>color</th>\n",
       "      <td>558088</td>\n",
       "      <td>46</td>\n",
       "      <td>black</td>\n",
       "      <td>110970</td>\n",
       "    </tr>\n",
       "    <tr>\n",
       "      <th>interior</th>\n",
       "      <td>558088</td>\n",
       "      <td>17</td>\n",
       "      <td>black</td>\n",
       "      <td>244329</td>\n",
       "    </tr>\n",
       "    <tr>\n",
       "      <th>seller</th>\n",
       "      <td>558837</td>\n",
       "      <td>14263</td>\n",
       "      <td>nissan-infiniti lt</td>\n",
       "      <td>19693</td>\n",
       "    </tr>\n",
       "    <tr>\n",
       "      <th>saledate</th>\n",
       "      <td>558825</td>\n",
       "      <td>3766</td>\n",
       "      <td>Tue Feb 10 2015 01:30:00 GMT-0800 (PST)</td>\n",
       "      <td>5334</td>\n",
       "    </tr>\n",
       "  </tbody>\n",
       "</table>\n",
       "</div>"
      ],
      "text/plain": [
       "               count  unique                                      top    freq\n",
       "make          548536      96                                     Ford   93554\n",
       "model         548438     973                                   Altima   19349\n",
       "trim          548186    1963                                     Base   55817\n",
       "body          545642      87                                    Sedan  199437\n",
       "transmission  493485       4                                automatic  475915\n",
       "vin           558833  550297                                automatic      22\n",
       "state         558837      64                                       fl   82945\n",
       "color         558088      46                                    black  110970\n",
       "interior      558088      17                                    black  244329\n",
       "seller        558837   14263                       nissan-infiniti lt   19693\n",
       "saledate      558825    3766  Tue Feb 10 2015 01:30:00 GMT-0800 (PST)    5334"
      ]
     },
     "execution_count": 12,
     "metadata": {},
     "output_type": "execute_result"
    }
   ],
   "source": [
    "df.describe(include = 'object').T"
   ]
  },
  {
   "cell_type": "markdown",
   "metadata": {},
   "source": [
    "Aqui notamos algunas inconsistencias en los datos:\n",
    "\n",
    "- Columna [vin]: (Número de identificación del vehículo) encontramos valores automatic que debemos limpiar antes de trabajar el dataframe\n",
    "- Columna [transmission]: con varios valores nulos, podemos ver si la marca y modelo del auto se repite y tiene datos en la columna transmision, en caso de ser asi podemos completar los datos faltantes en nuestro dataframe."
   ]
  },
  {
   "cell_type": "markdown",
   "metadata": {},
   "source": [
    "## Columnas numéricas"
   ]
  },
  {
   "cell_type": "code",
   "execution_count": 246,
   "metadata": {},
   "outputs": [
    {
     "data": {
      "text/html": [
       "<div>\n",
       "<style scoped>\n",
       "    .dataframe tbody tr th:only-of-type {\n",
       "        vertical-align: middle;\n",
       "    }\n",
       "\n",
       "    .dataframe tbody tr th {\n",
       "        vertical-align: top;\n",
       "    }\n",
       "\n",
       "    .dataframe thead th {\n",
       "        text-align: right;\n",
       "    }\n",
       "</style>\n",
       "<table border=\"1\" class=\"dataframe\">\n",
       "  <thead>\n",
       "    <tr style=\"text-align: right;\">\n",
       "      <th></th>\n",
       "      <th>count</th>\n",
       "      <th>mean</th>\n",
       "      <th>std</th>\n",
       "      <th>min</th>\n",
       "      <th>25%</th>\n",
       "      <th>50%</th>\n",
       "      <th>75%</th>\n",
       "      <th>max</th>\n",
       "    </tr>\n",
       "  </thead>\n",
       "  <tbody>\n",
       "    <tr>\n",
       "      <th>year</th>\n",
       "      <td>558837.0</td>\n",
       "      <td>2010.038927</td>\n",
       "      <td>3.966864</td>\n",
       "      <td>1982.0</td>\n",
       "      <td>2007.0</td>\n",
       "      <td>2012.0</td>\n",
       "      <td>2013.0</td>\n",
       "      <td>2015.0</td>\n",
       "    </tr>\n",
       "    <tr>\n",
       "      <th>condition</th>\n",
       "      <td>547017.0</td>\n",
       "      <td>30.672365</td>\n",
       "      <td>13.402832</td>\n",
       "      <td>1.0</td>\n",
       "      <td>23.0</td>\n",
       "      <td>35.0</td>\n",
       "      <td>42.0</td>\n",
       "      <td>49.0</td>\n",
       "    </tr>\n",
       "    <tr>\n",
       "      <th>odometer</th>\n",
       "      <td>558743.0</td>\n",
       "      <td>68320.017767</td>\n",
       "      <td>53398.542821</td>\n",
       "      <td>1.0</td>\n",
       "      <td>28371.0</td>\n",
       "      <td>52254.0</td>\n",
       "      <td>99109.0</td>\n",
       "      <td>999999.0</td>\n",
       "    </tr>\n",
       "    <tr>\n",
       "      <th>mmr</th>\n",
       "      <td>558799.0</td>\n",
       "      <td>13769.377495</td>\n",
       "      <td>9679.967174</td>\n",
       "      <td>25.0</td>\n",
       "      <td>7100.0</td>\n",
       "      <td>12250.0</td>\n",
       "      <td>18300.0</td>\n",
       "      <td>182000.0</td>\n",
       "    </tr>\n",
       "    <tr>\n",
       "      <th>sellingprice</th>\n",
       "      <td>558825.0</td>\n",
       "      <td>13611.358810</td>\n",
       "      <td>9749.501628</td>\n",
       "      <td>1.0</td>\n",
       "      <td>6900.0</td>\n",
       "      <td>12100.0</td>\n",
       "      <td>18200.0</td>\n",
       "      <td>230000.0</td>\n",
       "    </tr>\n",
       "  </tbody>\n",
       "</table>\n",
       "</div>"
      ],
      "text/plain": [
       "                 count          mean           std     min      25%      50%  \\\n",
       "year          558837.0   2010.038927      3.966864  1982.0   2007.0   2012.0   \n",
       "condition     547017.0     30.672365     13.402832     1.0     23.0     35.0   \n",
       "odometer      558743.0  68320.017767  53398.542821     1.0  28371.0  52254.0   \n",
       "mmr           558799.0  13769.377495   9679.967174    25.0   7100.0  12250.0   \n",
       "sellingprice  558825.0  13611.358810   9749.501628     1.0   6900.0  12100.0   \n",
       "\n",
       "                  75%       max  \n",
       "year           2013.0    2015.0  \n",
       "condition        42.0      49.0  \n",
       "odometer      99109.0  999999.0  \n",
       "mmr           18300.0  182000.0  \n",
       "sellingprice  18200.0  230000.0  "
      ]
     },
     "execution_count": 246,
     "metadata": {},
     "output_type": "execute_result"
    }
   ],
   "source": [
    "df.describe().T"
   ]
  },
  {
   "cell_type": "code",
   "execution_count": 247,
   "metadata": {},
   "outputs": [
    {
     "data": {
      "text/plain": [
       "make            10301\n",
       "model           10399\n",
       "trim            10651\n",
       "body            13195\n",
       "transmission     1819\n",
       "vin                 4\n",
       "condition       11820\n",
       "odometer           94\n",
       "color             749\n",
       "interior          749\n",
       "mmr                38\n",
       "sellingprice       12\n",
       "saledate           12\n",
       "Estado          11820\n",
       "Name: Cantidad, dtype: int64"
      ]
     },
     "execution_count": 247,
     "metadata": {},
     "output_type": "execute_result"
    }
   ],
   "source": [
    "numericas_null = pd.DataFrame({'Cantidad' : df.isnull().sum(), 'Porcentaje' : (df.isnull().sum()) / (len(df)) * (100)})\n",
    "numericas_null = numericas_null[numericas_null['Cantidad'] != 0]\n",
    "numericas_null['Cantidad']"
   ]
  },
  {
   "cell_type": "markdown",
   "metadata": {},
   "source": [
    "En las columnas numericas sobresale la columna [condition] que refiere a la condicion del auto, esta variable es categorica mas que numerica, debemos analizar bien estos datos y agrupar segun el estado real del coche.\n",
    "Ademas tiene varios valores vacios al igual que transmission como vimos arriba..."
   ]
  },
  {
   "cell_type": "markdown",
   "metadata": {},
   "source": [
    "## Cardinalidad"
   ]
  },
  {
   "cell_type": "markdown",
   "metadata": {},
   "source": [
    "Una nueva verificacion de los datos para corroborar que los valores identificatorios como el [vin] sea correcto."
   ]
  },
  {
   "cell_type": "code",
   "execution_count": 25,
   "metadata": {},
   "outputs": [
    {
     "data": {
      "text/html": [
       "<div>\n",
       "<style scoped>\n",
       "    .dataframe tbody tr th:only-of-type {\n",
       "        vertical-align: middle;\n",
       "    }\n",
       "\n",
       "    .dataframe tbody tr th {\n",
       "        vertical-align: top;\n",
       "    }\n",
       "\n",
       "    .dataframe thead th {\n",
       "        text-align: right;\n",
       "    }\n",
       "</style>\n",
       "<table border=\"1\" class=\"dataframe\">\n",
       "  <thead>\n",
       "    <tr style=\"text-align: right;\">\n",
       "      <th></th>\n",
       "      <th>Cantidad</th>\n",
       "      <th>Porcentaje</th>\n",
       "      <th>Filas totales</th>\n",
       "    </tr>\n",
       "  </thead>\n",
       "  <tbody>\n",
       "    <tr>\n",
       "      <th>year</th>\n",
       "      <td>34</td>\n",
       "      <td>0.006084</td>\n",
       "      <td>558837</td>\n",
       "    </tr>\n",
       "    <tr>\n",
       "      <th>make</th>\n",
       "      <td>96</td>\n",
       "      <td>0.017179</td>\n",
       "      <td>558837</td>\n",
       "    </tr>\n",
       "    <tr>\n",
       "      <th>model</th>\n",
       "      <td>973</td>\n",
       "      <td>0.174112</td>\n",
       "      <td>558837</td>\n",
       "    </tr>\n",
       "    <tr>\n",
       "      <th>trim</th>\n",
       "      <td>1963</td>\n",
       "      <td>0.351265</td>\n",
       "      <td>558837</td>\n",
       "    </tr>\n",
       "    <tr>\n",
       "      <th>body</th>\n",
       "      <td>87</td>\n",
       "      <td>0.015568</td>\n",
       "      <td>558837</td>\n",
       "    </tr>\n",
       "    <tr>\n",
       "      <th>transmission</th>\n",
       "      <td>4</td>\n",
       "      <td>0.000716</td>\n",
       "      <td>558837</td>\n",
       "    </tr>\n",
       "    <tr>\n",
       "      <th>vin</th>\n",
       "      <td>550297</td>\n",
       "      <td>98.471826</td>\n",
       "      <td>558837</td>\n",
       "    </tr>\n",
       "    <tr>\n",
       "      <th>state</th>\n",
       "      <td>64</td>\n",
       "      <td>0.011452</td>\n",
       "      <td>558837</td>\n",
       "    </tr>\n",
       "    <tr>\n",
       "      <th>condition</th>\n",
       "      <td>41</td>\n",
       "      <td>0.007337</td>\n",
       "      <td>558837</td>\n",
       "    </tr>\n",
       "    <tr>\n",
       "      <th>odometer</th>\n",
       "      <td>172278</td>\n",
       "      <td>30.827952</td>\n",
       "      <td>558837</td>\n",
       "    </tr>\n",
       "    <tr>\n",
       "      <th>color</th>\n",
       "      <td>46</td>\n",
       "      <td>0.008231</td>\n",
       "      <td>558837</td>\n",
       "    </tr>\n",
       "    <tr>\n",
       "      <th>interior</th>\n",
       "      <td>17</td>\n",
       "      <td>0.003042</td>\n",
       "      <td>558837</td>\n",
       "    </tr>\n",
       "    <tr>\n",
       "      <th>seller</th>\n",
       "      <td>14263</td>\n",
       "      <td>2.552265</td>\n",
       "      <td>558837</td>\n",
       "    </tr>\n",
       "    <tr>\n",
       "      <th>mmr</th>\n",
       "      <td>1101</td>\n",
       "      <td>0.197016</td>\n",
       "      <td>558837</td>\n",
       "    </tr>\n",
       "    <tr>\n",
       "      <th>sellingprice</th>\n",
       "      <td>1887</td>\n",
       "      <td>0.337666</td>\n",
       "      <td>558837</td>\n",
       "    </tr>\n",
       "    <tr>\n",
       "      <th>saledate</th>\n",
       "      <td>3766</td>\n",
       "      <td>0.673900</td>\n",
       "      <td>558837</td>\n",
       "    </tr>\n",
       "  </tbody>\n",
       "</table>\n",
       "</div>"
      ],
      "text/plain": [
       "              Cantidad  Porcentaje  Filas totales\n",
       "year                34    0.006084         558837\n",
       "make                96    0.017179         558837\n",
       "model              973    0.174112         558837\n",
       "trim              1963    0.351265         558837\n",
       "body                87    0.015568         558837\n",
       "transmission         4    0.000716         558837\n",
       "vin             550297   98.471826         558837\n",
       "state               64    0.011452         558837\n",
       "condition           41    0.007337         558837\n",
       "odometer        172278   30.827952         558837\n",
       "color               46    0.008231         558837\n",
       "interior            17    0.003042         558837\n",
       "seller           14263    2.552265         558837\n",
       "mmr               1101    0.197016         558837\n",
       "sellingprice      1887    0.337666         558837\n",
       "saledate          3766    0.673900         558837"
      ]
     },
     "execution_count": 25,
     "metadata": {},
     "output_type": "execute_result"
    }
   ],
   "source": [
    "cardinalidad = pd.DataFrame({'Cantidad' : df.nunique(), 'Porcentaje' : (df.nunique()) / (df.shape[0]) * (100), 'Filas totales': df.shape[0]})\n",
    "cardinalidad"
   ]
  },
  {
   "cell_type": "markdown",
   "metadata": {},
   "source": [
    "Analisis de lo visto en los barchart:\n",
    "\n",
    "1) year: La mayoría de los autos en el conjunto de datos son de años recientes.\n",
    "2) odometer: El kilometraje muestra una distribución sesgada a la derecha, indicando que hay muchos más autos con bajos kilometrajes.\n",
    "3) mmr: El precio promedio de mercado también está sesgado a la derecha, con la mayoría de los autos teniendo un MMR bajo.\n",
    "4) sellingprice: La distribución del precio de venta es similar a la del MMR, con la mayoría de los autos vendiéndose a precios más bajos."
   ]
  },
  {
   "cell_type": "markdown",
   "metadata": {},
   "source": [
    "## Limpieza y correccion de datos"
   ]
  },
  {
   "cell_type": "markdown",
   "metadata": {},
   "source": [
    "Lista de variables a revisar:\n",
    "\n",
    "##### Columna   |   Cantidad:\n",
    "- make       |     10301\n",
    "- model      |     10399\n",
    "- trim       |     10651\n",
    "- body       |     13195\n",
    "- transmission  |  65352\n",
    "- vin        |         4\n",
    "- condition  |     11820\n",
    "- odometer   |        94\n",
    "- color      |       749\n",
    "- interior   |       749\n",
    "- mmr        |        38\n",
    "- sellingprice   |    12\n",
    "- saledate       |    12\n",
    "\n",
    "\n",
    "Las mas alarmantes son make, model, trim, transmission y condition, entiendo que a medida que se encuentre una solucion para esos datos se corregiran los demas."
   ]
  },
  {
   "cell_type": "code",
   "execution_count": 10,
   "metadata": {},
   "outputs": [],
   "source": [
    "# Guardamos en transmision_null los valores donde la transmiscion sea nula/vacia\n",
    "transmision_null = df[df['transmission'].isna()]\n",
    "# En la variable modelos guardamos los modelos que no cuentan con esta informacion.\n",
    "modelos = transmision_null['model'].unique()\n",
    "# Mientras que en transmision_si contaremos con la transmision de los modelos guardados anteriormente.\n",
    "transmision_si = df[(df['transmission'].notna()) & (df['model'].isin(modelos))]\n",
    "\n",
    "# Creamos un diccionario con el modelo y su transmisión más común con el metodo .mode()\n",
    "trans_mappings = transmision_si.groupby('model')['transmission'].agg(lambda x: x.mode()[0]).to_dict()\n",
    "\n",
    "# Rellenamos los valores nulos de la columna transmission con los valores del diccionario trans_mappings\n",
    "df['transmission'] = df.apply(lambda row: trans_mappings[row['model']] if pd.isna(row['transmission']) and row['model'] in trans_mappings else row['transmission'], axis=1)"
   ]
  },
  {
   "cell_type": "markdown",
   "metadata": {},
   "source": [
    "### Autos vendidos por mayor precio"
   ]
  },
  {
   "cell_type": "code",
   "execution_count": 8,
   "metadata": {},
   "outputs": [
    {
     "data": {
      "text/html": [
       "<div>\n",
       "<style scoped>\n",
       "    .dataframe tbody tr th:only-of-type {\n",
       "        vertical-align: middle;\n",
       "    }\n",
       "\n",
       "    .dataframe tbody tr th {\n",
       "        vertical-align: top;\n",
       "    }\n",
       "\n",
       "    .dataframe thead th {\n",
       "        text-align: right;\n",
       "    }\n",
       "</style>\n",
       "<table border=\"1\" class=\"dataframe\">\n",
       "  <thead>\n",
       "    <tr style=\"text-align: right;\">\n",
       "      <th></th>\n",
       "      <th>make</th>\n",
       "      <th>sellingprice</th>\n",
       "    </tr>\n",
       "  </thead>\n",
       "  <tbody>\n",
       "    <tr>\n",
       "      <th>344905</th>\n",
       "      <td>Ford</td>\n",
       "      <td>230000.0</td>\n",
       "    </tr>\n",
       "    <tr>\n",
       "      <th>548169</th>\n",
       "      <td>Ferrari</td>\n",
       "      <td>183000.0</td>\n",
       "    </tr>\n",
       "    <tr>\n",
       "      <th>446949</th>\n",
       "      <td>Mercedes-Benz</td>\n",
       "      <td>173000.0</td>\n",
       "    </tr>\n",
       "    <tr>\n",
       "      <th>545523</th>\n",
       "      <td>Rolls-Royce</td>\n",
       "      <td>171500.0</td>\n",
       "    </tr>\n",
       "    <tr>\n",
       "      <th>125095</th>\n",
       "      <td>Rolls-Royce</td>\n",
       "      <td>169500.0</td>\n",
       "    </tr>\n",
       "    <tr>\n",
       "      <th>...</th>\n",
       "      <td>...</td>\n",
       "      <td>...</td>\n",
       "    </tr>\n",
       "    <tr>\n",
       "      <th>398767</th>\n",
       "      <td>Land Rover</td>\n",
       "      <td>104000.0</td>\n",
       "    </tr>\n",
       "    <tr>\n",
       "      <th>148296</th>\n",
       "      <td>Mercedes-Benz</td>\n",
       "      <td>104000.0</td>\n",
       "    </tr>\n",
       "    <tr>\n",
       "      <th>507604</th>\n",
       "      <td>Audi</td>\n",
       "      <td>104000.0</td>\n",
       "    </tr>\n",
       "    <tr>\n",
       "      <th>242835</th>\n",
       "      <td>Audi</td>\n",
       "      <td>104000.0</td>\n",
       "    </tr>\n",
       "    <tr>\n",
       "      <th>283536</th>\n",
       "      <td>BMW</td>\n",
       "      <td>103000.0</td>\n",
       "    </tr>\n",
       "  </tbody>\n",
       "</table>\n",
       "<p>149 rows × 2 columns</p>\n",
       "</div>"
      ],
      "text/plain": [
       "                 make  sellingprice\n",
       "344905           Ford      230000.0\n",
       "548169        Ferrari      183000.0\n",
       "446949  Mercedes-Benz      173000.0\n",
       "545523    Rolls-Royce      171500.0\n",
       "125095    Rolls-Royce      169500.0\n",
       "...               ...           ...\n",
       "398767     Land Rover      104000.0\n",
       "148296  Mercedes-Benz      104000.0\n",
       "507604           Audi      104000.0\n",
       "242835           Audi      104000.0\n",
       "283536            BMW      103000.0\n",
       "\n",
       "[149 rows x 2 columns]"
      ]
     },
     "execution_count": 8,
     "metadata": {},
     "output_type": "execute_result"
    }
   ],
   "source": [
    "order_sellingprice = df.sort_values(by='sellingprice', ascending=False)\n",
    "df_top_sellingprice = order_sellingprice[['make', 'sellingprice']].head(149)\n",
    "df_top_sellingprice.sort_values(by='sellingprice', ascending=False)"
   ]
  },
  {
   "cell_type": "markdown",
   "metadata": {},
   "source": [
    "Es inesperado que un modelo de auto Ford se encuentre en el top 1 de autos con mayor precio de venta, por lo que investigando un poco mas identifico la venta de dos autos Ford Escape con un sellingprice de 230000 y otro de 108200, esto probablemente haya sido un error ya que viendo otras ventas de los mismos modelos los precios varian entre los 20000 y 35000."
   ]
  },
  {
   "cell_type": "code",
   "execution_count": 98,
   "metadata": {},
   "outputs": [
    {
     "data": {
      "text/html": [
       "<div>\n",
       "<style scoped>\n",
       "    .dataframe tbody tr th:only-of-type {\n",
       "        vertical-align: middle;\n",
       "    }\n",
       "\n",
       "    .dataframe tbody tr th {\n",
       "        vertical-align: top;\n",
       "    }\n",
       "\n",
       "    .dataframe thead th {\n",
       "        text-align: right;\n",
       "    }\n",
       "</style>\n",
       "<table border=\"1\" class=\"dataframe\">\n",
       "  <thead>\n",
       "    <tr style=\"text-align: right;\">\n",
       "      <th></th>\n",
       "      <th>year</th>\n",
       "      <th>make</th>\n",
       "      <th>model</th>\n",
       "      <th>trim</th>\n",
       "      <th>body</th>\n",
       "      <th>transmission</th>\n",
       "      <th>vin</th>\n",
       "      <th>state</th>\n",
       "      <th>condition</th>\n",
       "      <th>odometer</th>\n",
       "      <th>color</th>\n",
       "      <th>interior</th>\n",
       "      <th>seller</th>\n",
       "      <th>mmr</th>\n",
       "      <th>sellingprice</th>\n",
       "      <th>saledate</th>\n",
       "    </tr>\n",
       "  </thead>\n",
       "  <tbody>\n",
       "    <tr>\n",
       "      <th>344905</th>\n",
       "      <td>2014</td>\n",
       "      <td>Ford</td>\n",
       "      <td>Escape</td>\n",
       "      <td>Titanium</td>\n",
       "      <td>SUV</td>\n",
       "      <td>automatic</td>\n",
       "      <td>1fmcu9j98eua23833</td>\n",
       "      <td>mo</td>\n",
       "      <td>43.0</td>\n",
       "      <td>27802.0</td>\n",
       "      <td>green</td>\n",
       "      <td>tan</td>\n",
       "      <td>ford-lincoln dealer program</td>\n",
       "      <td>22800.0</td>\n",
       "      <td>230000.0</td>\n",
       "      <td>Wed Feb 25 2015 02:00:00 GMT-0800 (PST)</td>\n",
       "    </tr>\n",
       "    <tr>\n",
       "      <th>160201</th>\n",
       "      <td>2010</td>\n",
       "      <td>Ford</td>\n",
       "      <td>Escape</td>\n",
       "      <td>XLT</td>\n",
       "      <td>SUV</td>\n",
       "      <td>automatic</td>\n",
       "      <td>1fmcu0d77aka54695</td>\n",
       "      <td>oh</td>\n",
       "      <td>37.0</td>\n",
       "      <td>82985.0</td>\n",
       "      <td>red</td>\n",
       "      <td>gray</td>\n",
       "      <td>pat obrien chevrolet south</td>\n",
       "      <td>8250.0</td>\n",
       "      <td>108200.0</td>\n",
       "      <td>Tue Jan 20 2015 01:30:00 GMT-0800 (PST)</td>\n",
       "    </tr>\n",
       "    <tr>\n",
       "      <th>405998</th>\n",
       "      <td>2014</td>\n",
       "      <td>Ford</td>\n",
       "      <td>Escape</td>\n",
       "      <td>Titanium</td>\n",
       "      <td>SUV</td>\n",
       "      <td>automatic</td>\n",
       "      <td>1fmcu9j95euc69710</td>\n",
       "      <td>co</td>\n",
       "      <td>19.0</td>\n",
       "      <td>33548.0</td>\n",
       "      <td>gray</td>\n",
       "      <td>beige</td>\n",
       "      <td>automotive solutions inc</td>\n",
       "      <td>22900.0</td>\n",
       "      <td>32800.0</td>\n",
       "      <td>Tue Mar 31 2015 05:00:00 GMT-0700 (PDT)</td>\n",
       "    </tr>\n",
       "    <tr>\n",
       "      <th>406864</th>\n",
       "      <td>2014</td>\n",
       "      <td>Ford</td>\n",
       "      <td>Escape</td>\n",
       "      <td>Titanium</td>\n",
       "      <td>SUV</td>\n",
       "      <td>automatic</td>\n",
       "      <td>1fmcu9j95eub34288</td>\n",
       "      <td>mo</td>\n",
       "      <td>45.0</td>\n",
       "      <td>34597.0</td>\n",
       "      <td>white</td>\n",
       "      <td>tan</td>\n",
       "      <td>ars/avis budget group</td>\n",
       "      <td>22700.0</td>\n",
       "      <td>32500.0</td>\n",
       "      <td>Wed Apr 15 2015 03:00:00 GMT-0700 (PDT)</td>\n",
       "    </tr>\n",
       "    <tr>\n",
       "      <th>407201</th>\n",
       "      <td>2014</td>\n",
       "      <td>Ford</td>\n",
       "      <td>Escape</td>\n",
       "      <td>Titanium</td>\n",
       "      <td>SUV</td>\n",
       "      <td>automatic</td>\n",
       "      <td>1fmcu9j94euc54096</td>\n",
       "      <td>tx</td>\n",
       "      <td>47.0</td>\n",
       "      <td>34220.0</td>\n",
       "      <td>—</td>\n",
       "      <td>black</td>\n",
       "      <td>avis budget group</td>\n",
       "      <td>29000.0</td>\n",
       "      <td>30800.0</td>\n",
       "      <td>Wed May 27 2015 03:15:00 GMT-0700 (PDT)</td>\n",
       "    </tr>\n",
       "    <tr>\n",
       "      <th>542847</th>\n",
       "      <td>2014</td>\n",
       "      <td>Ford</td>\n",
       "      <td>Escape</td>\n",
       "      <td>Titanium</td>\n",
       "      <td>suv</td>\n",
       "      <td>NaN</td>\n",
       "      <td>1fmcu9j97eud81943</td>\n",
       "      <td>on</td>\n",
       "      <td>5.0</td>\n",
       "      <td>16551.0</td>\n",
       "      <td>white</td>\n",
       "      <td>black</td>\n",
       "      <td>ford motor company of canada</td>\n",
       "      <td>25500.0</td>\n",
       "      <td>27300.0</td>\n",
       "      <td>Tue Jun 16 2015 03:00:00 GMT-0700 (PDT)</td>\n",
       "    </tr>\n",
       "    <tr>\n",
       "      <th>542850</th>\n",
       "      <td>2014</td>\n",
       "      <td>Ford</td>\n",
       "      <td>Escape</td>\n",
       "      <td>Titanium</td>\n",
       "      <td>suv</td>\n",
       "      <td>NaN</td>\n",
       "      <td>1fmcu9j9xeud46328</td>\n",
       "      <td>on</td>\n",
       "      <td>47.0</td>\n",
       "      <td>17076.0</td>\n",
       "      <td>white</td>\n",
       "      <td>black</td>\n",
       "      <td>ford motor company of canada</td>\n",
       "      <td>25500.0</td>\n",
       "      <td>27200.0</td>\n",
       "      <td>Tue Jun 16 2015 03:00:00 GMT-0700 (PDT)</td>\n",
       "    </tr>\n",
       "    <tr>\n",
       "      <th>511591</th>\n",
       "      <td>2014</td>\n",
       "      <td>Ford</td>\n",
       "      <td>Escape</td>\n",
       "      <td>Titanium</td>\n",
       "      <td>suv</td>\n",
       "      <td>NaN</td>\n",
       "      <td>1fmcu9j93euc86800</td>\n",
       "      <td>on</td>\n",
       "      <td>44.0</td>\n",
       "      <td>14598.0</td>\n",
       "      <td>white</td>\n",
       "      <td>black</td>\n",
       "      <td>ford motor company of canada  limited</td>\n",
       "      <td>25700.0</td>\n",
       "      <td>27000.0</td>\n",
       "      <td>Tue Jun 09 2015 03:00:00 GMT-0700 (PDT)</td>\n",
       "    </tr>\n",
       "    <tr>\n",
       "      <th>417541</th>\n",
       "      <td>2014</td>\n",
       "      <td>Ford</td>\n",
       "      <td>Escape</td>\n",
       "      <td>Titanium</td>\n",
       "      <td>SUV</td>\n",
       "      <td>automatic</td>\n",
       "      <td>1fmcu9j95eud26374</td>\n",
       "      <td>il</td>\n",
       "      <td>46.0</td>\n",
       "      <td>33114.0</td>\n",
       "      <td>gray</td>\n",
       "      <td>gray</td>\n",
       "      <td>avis budget group</td>\n",
       "      <td>21800.0</td>\n",
       "      <td>27000.0</td>\n",
       "      <td>Tue May 19 2015 04:00:00 GMT-0700 (PDT)</td>\n",
       "    </tr>\n",
       "    <tr>\n",
       "      <th>411717</th>\n",
       "      <td>2014</td>\n",
       "      <td>Ford</td>\n",
       "      <td>Escape</td>\n",
       "      <td>Titanium</td>\n",
       "      <td>SUV</td>\n",
       "      <td>automatic</td>\n",
       "      <td>1fmcu9j98euc54151</td>\n",
       "      <td>il</td>\n",
       "      <td>37.0</td>\n",
       "      <td>33235.0</td>\n",
       "      <td>silver</td>\n",
       "      <td>gray</td>\n",
       "      <td>avis budget group</td>\n",
       "      <td>26900.0</td>\n",
       "      <td>26900.0</td>\n",
       "      <td>Thu May 21 2015 03:00:00 GMT-0700 (PDT)</td>\n",
       "    </tr>\n",
       "  </tbody>\n",
       "</table>\n",
       "</div>"
      ],
      "text/plain": [
       "        year  make   model      trim body transmission                vin  \\\n",
       "344905  2014  Ford  Escape  Titanium  SUV    automatic  1fmcu9j98eua23833   \n",
       "160201  2010  Ford  Escape       XLT  SUV    automatic  1fmcu0d77aka54695   \n",
       "405998  2014  Ford  Escape  Titanium  SUV    automatic  1fmcu9j95euc69710   \n",
       "406864  2014  Ford  Escape  Titanium  SUV    automatic  1fmcu9j95eub34288   \n",
       "407201  2014  Ford  Escape  Titanium  SUV    automatic  1fmcu9j94euc54096   \n",
       "542847  2014  Ford  Escape  Titanium  suv          NaN  1fmcu9j97eud81943   \n",
       "542850  2014  Ford  Escape  Titanium  suv          NaN  1fmcu9j9xeud46328   \n",
       "511591  2014  Ford  Escape  Titanium  suv          NaN  1fmcu9j93euc86800   \n",
       "417541  2014  Ford  Escape  Titanium  SUV    automatic  1fmcu9j95eud26374   \n",
       "411717  2014  Ford  Escape  Titanium  SUV    automatic  1fmcu9j98euc54151   \n",
       "\n",
       "       state  condition  odometer   color interior  \\\n",
       "344905    mo       43.0   27802.0   green      tan   \n",
       "160201    oh       37.0   82985.0     red     gray   \n",
       "405998    co       19.0   33548.0    gray    beige   \n",
       "406864    mo       45.0   34597.0   white      tan   \n",
       "407201    tx       47.0   34220.0       —    black   \n",
       "542847    on        5.0   16551.0   white    black   \n",
       "542850    on       47.0   17076.0   white    black   \n",
       "511591    on       44.0   14598.0   white    black   \n",
       "417541    il       46.0   33114.0    gray     gray   \n",
       "411717    il       37.0   33235.0  silver     gray   \n",
       "\n",
       "                                       seller      mmr  sellingprice  \\\n",
       "344905            ford-lincoln dealer program  22800.0      230000.0   \n",
       "160201             pat obrien chevrolet south   8250.0      108200.0   \n",
       "405998               automotive solutions inc  22900.0       32800.0   \n",
       "406864                  ars/avis budget group  22700.0       32500.0   \n",
       "407201                      avis budget group  29000.0       30800.0   \n",
       "542847           ford motor company of canada  25500.0       27300.0   \n",
       "542850           ford motor company of canada  25500.0       27200.0   \n",
       "511591  ford motor company of canada  limited  25700.0       27000.0   \n",
       "417541                      avis budget group  21800.0       27000.0   \n",
       "411717                      avis budget group  26900.0       26900.0   \n",
       "\n",
       "                                       saledate  \n",
       "344905  Wed Feb 25 2015 02:00:00 GMT-0800 (PST)  \n",
       "160201  Tue Jan 20 2015 01:30:00 GMT-0800 (PST)  \n",
       "405998  Tue Mar 31 2015 05:00:00 GMT-0700 (PDT)  \n",
       "406864  Wed Apr 15 2015 03:00:00 GMT-0700 (PDT)  \n",
       "407201  Wed May 27 2015 03:15:00 GMT-0700 (PDT)  \n",
       "542847  Tue Jun 16 2015 03:00:00 GMT-0700 (PDT)  \n",
       "542850  Tue Jun 16 2015 03:00:00 GMT-0700 (PDT)  \n",
       "511591  Tue Jun 09 2015 03:00:00 GMT-0700 (PDT)  \n",
       "417541  Tue May 19 2015 04:00:00 GMT-0700 (PDT)  \n",
       "411717  Thu May 21 2015 03:00:00 GMT-0700 (PDT)  "
      ]
     },
     "execution_count": 98,
     "metadata": {},
     "output_type": "execute_result"
    }
   ],
   "source": [
    "ford_escape = df[(df['make'] == 'Ford') & (df['model'] == 'Escape') & ((df.trim == 'XLT') | (df.trim == 'Titanium'))]\n",
    "ford_escape = ford_escape.sort_values(by='sellingprice', ascending=False).head(10)\n",
    "ford_escape"
   ]
  },
  {
   "cell_type": "markdown",
   "metadata": {},
   "source": [
    "Arriba podemos ver que es un claro error de datos, por lo que no se tendra en cuenta para el analisis, los borrare y procedere a graficar."
   ]
  },
  {
   "cell_type": "markdown",
   "metadata": {},
   "source": [
    "## Visualizaciones"
   ]
  },
  {
   "cell_type": "code",
   "execution_count": 100,
   "metadata": {},
   "outputs": [
    {
     "data": {
      "text/html": [
       "<div>\n",
       "<style scoped>\n",
       "    .dataframe tbody tr th:only-of-type {\n",
       "        vertical-align: middle;\n",
       "    }\n",
       "\n",
       "    .dataframe tbody tr th {\n",
       "        vertical-align: top;\n",
       "    }\n",
       "\n",
       "    .dataframe thead th {\n",
       "        text-align: right;\n",
       "    }\n",
       "</style>\n",
       "<table border=\"1\" class=\"dataframe\">\n",
       "  <thead>\n",
       "    <tr style=\"text-align: right;\">\n",
       "      <th></th>\n",
       "      <th>make</th>\n",
       "      <th>sellingprice</th>\n",
       "    </tr>\n",
       "  </thead>\n",
       "  <tbody>\n",
       "    <tr>\n",
       "      <th>548169</th>\n",
       "      <td>Ferrari</td>\n",
       "      <td>183000.0</td>\n",
       "    </tr>\n",
       "    <tr>\n",
       "      <th>446949</th>\n",
       "      <td>Mercedes-Benz</td>\n",
       "      <td>173000.0</td>\n",
       "    </tr>\n",
       "    <tr>\n",
       "      <th>545523</th>\n",
       "      <td>Rolls-Royce</td>\n",
       "      <td>171500.0</td>\n",
       "    </tr>\n",
       "    <tr>\n",
       "      <th>125095</th>\n",
       "      <td>Rolls-Royce</td>\n",
       "      <td>169500.0</td>\n",
       "    </tr>\n",
       "    <tr>\n",
       "      <th>557570</th>\n",
       "      <td>Rolls-Royce</td>\n",
       "      <td>169000.0</td>\n",
       "    </tr>\n",
       "  </tbody>\n",
       "</table>\n",
       "</div>"
      ],
      "text/plain": [
       "                 make  sellingprice\n",
       "548169        Ferrari      183000.0\n",
       "446949  Mercedes-Benz      173000.0\n",
       "545523    Rolls-Royce      171500.0\n",
       "125095    Rolls-Royce      169500.0\n",
       "557570    Rolls-Royce      169000.0"
      ]
     },
     "execution_count": 100,
     "metadata": {},
     "output_type": "execute_result"
    }
   ],
   "source": [
    "df_top_sellingprice = df_top_sellingprice[~((df_top_sellingprice['make'] == 'Ford') \n",
    "                                           & ((df_top_sellingprice['sellingprice'] == 230000) \n",
    "                                           | (df_top_sellingprice['sellingprice'] == 108200)))]\n",
    "df_top_sellingprice.sort_values(by='sellingprice', ascending=False).head(5)"
   ]
  },
  {
   "cell_type": "code",
   "execution_count": 101,
   "metadata": {},
   "outputs": [
    {
     "data": {
      "image/png": "[encoded data removed]",
      "text/plain": [
       "<Figure size 1000x800 with 1 Axes>"
      ]
     },
     "metadata": {},
     "output_type": "display_data"
    }
   ],
   "source": [
    "# Boxplot del top 10 precio de venta por marca\n",
    "plt.figure(figsize=(10, 8))\n",
    "sns.boxplot(x='make', y='sellingprice', data=df_top_sellingprice)\n",
    "plt.xticks(rotation=90)\n",
    "plt.title('Top 10 fabricantes con ventas de mayor precio')\n",
    "plt.show()"
   ]
  },
  {
   "cell_type": "markdown",
   "metadata": {},
   "source": [
    "Visualizamos las variables categoricas para entenderlas mejor y adentrarnos en nuestra informacion."
   ]
  },
  {
   "cell_type": "code",
   "execution_count": 11,
   "metadata": {},
   "outputs": [
    {
     "data": {
      "image/png": "[encoded data removed]",
      "text/plain": [
       "<Figure size 1200x800 with 4 Axes>"
      ]
     },
     "metadata": {},
     "output_type": "display_data"
    }
   ],
   "source": [
    "# Distribuciones de las variables numéricas\n",
    "df[['year', 'odometer', 'mmr', 'sellingprice']].hist(figsize=(12, 8), layout=(2, 2))\n",
    "\n",
    "# Mostrar graficos\n",
    "plt.tight_layout()\n",
    "plt.show()"
   ]
  },
  {
   "cell_type": "code",
   "execution_count": 24,
   "metadata": {},
   "outputs": [
    {
     "data": {
      "text/html": [
       "<div>\n",
       "<style scoped>\n",
       "    .dataframe tbody tr th:only-of-type {\n",
       "        vertical-align: middle;\n",
       "    }\n",
       "\n",
       "    .dataframe tbody tr th {\n",
       "        vertical-align: top;\n",
       "    }\n",
       "\n",
       "    .dataframe thead th {\n",
       "        text-align: right;\n",
       "    }\n",
       "</style>\n",
       "<table border=\"1\" class=\"dataframe\">\n",
       "  <thead>\n",
       "    <tr style=\"text-align: right;\">\n",
       "      <th></th>\n",
       "      <th>make</th>\n",
       "      <th>model</th>\n",
       "      <th>sellingprice</th>\n",
       "    </tr>\n",
       "  </thead>\n",
       "  <tbody>\n",
       "    <tr>\n",
       "      <th>495603</th>\n",
       "      <td>BMW</td>\n",
       "      <td>3 Series</td>\n",
       "      <td>20400.0</td>\n",
       "    </tr>\n",
       "    <tr>\n",
       "      <th>323088</th>\n",
       "      <td>Ford</td>\n",
       "      <td>F-150</td>\n",
       "      <td>15800.0</td>\n",
       "    </tr>\n",
       "    <tr>\n",
       "      <th>315298</th>\n",
       "      <td>Toyota</td>\n",
       "      <td>Camry</td>\n",
       "      <td>14500.0</td>\n",
       "    </tr>\n",
       "    <tr>\n",
       "      <th>243131</th>\n",
       "      <td>Honda</td>\n",
       "      <td>Accord</td>\n",
       "      <td>7400.0</td>\n",
       "    </tr>\n",
       "    <tr>\n",
       "      <th>538908</th>\n",
       "      <td>Ford</td>\n",
       "      <td>Fusion</td>\n",
       "      <td>3900.0</td>\n",
       "    </tr>\n",
       "  </tbody>\n",
       "</table>\n",
       "</div>"
      ],
      "text/plain": [
       "          make     model  sellingprice\n",
       "495603     BMW  3 Series       20400.0\n",
       "323088    Ford     F-150       15800.0\n",
       "315298  Toyota     Camry       14500.0\n",
       "243131   Honda    Accord        7400.0\n",
       "538908    Ford    Fusion        3900.0"
      ]
     },
     "execution_count": 24,
     "metadata": {},
     "output_type": "execute_result"
    }
   ],
   "source": [
    "# Filtrando los 10 modelos mas vendidos\n",
    "top_models = df['model'].value_counts().nlargest(10).index\n",
    "top_model_data = df[df['model'].isin(top_models)]\n",
    "top_model_data[['make', 'model','sellingprice']].sort_values(by='model', ascending=False).sample(n=5)"
   ]
  },
  {
   "cell_type": "code",
   "execution_count": 48,
   "metadata": {},
   "outputs": [
    {
     "data": {
      "image/png": "[encoded data removed]",
      "text/plain": [
       "<Figure size 1500x700 with 1 Axes>"
      ]
     },
     "metadata": {},
     "output_type": "display_data"
    }
   ],
   "source": [
    "# Boxplot del precio de venta por modelo (mostrando solo los 10 modelos más comunes)\n",
    "plt.figure(figsize=(15, 7))\n",
    "sns.barplot(x='model', y='sellingprice', data=top_model_data)\n",
    "plt.xticks(rotation=70)\n",
    "plt.title('Barplot del precio de venta por los 10 modelos más comunes')\n",
    "plt.show()"
   ]
  },
  {
   "cell_type": "markdown",
   "metadata": {},
   "source": [
    "El outlier del modelo Escape de la marca Ford es el que trabajamos anteriormente con el dataframe de autos de alta gama."
   ]
  },
  {
   "cell_type": "code",
   "execution_count": 42,
   "metadata": {},
   "outputs": [
    {
     "data": {
      "text/html": [
       "<div>\n",
       "<style scoped>\n",
       "    .dataframe tbody tr th:only-of-type {\n",
       "        vertical-align: middle;\n",
       "    }\n",
       "\n",
       "    .dataframe tbody tr th {\n",
       "        vertical-align: top;\n",
       "    }\n",
       "\n",
       "    .dataframe thead th {\n",
       "        text-align: right;\n",
       "    }\n",
       "</style>\n",
       "<table border=\"1\" class=\"dataframe\">\n",
       "  <thead>\n",
       "    <tr style=\"text-align: right;\">\n",
       "      <th></th>\n",
       "      <th></th>\n",
       "      <th>count</th>\n",
       "    </tr>\n",
       "    <tr>\n",
       "      <th>make</th>\n",
       "      <th>model</th>\n",
       "      <th></th>\n",
       "    </tr>\n",
       "  </thead>\n",
       "  <tbody>\n",
       "    <tr>\n",
       "      <th>Nissan</th>\n",
       "      <th>Altima</th>\n",
       "      <td>19349</td>\n",
       "    </tr>\n",
       "    <tr>\n",
       "      <th rowspan=\"2\" valign=\"top\">Ford</th>\n",
       "      <th>F-150</th>\n",
       "      <td>14479</td>\n",
       "    </tr>\n",
       "    <tr>\n",
       "      <th>Fusion</th>\n",
       "      <td>12946</td>\n",
       "    </tr>\n",
       "    <tr>\n",
       "      <th>Toyota</th>\n",
       "      <th>Camry</th>\n",
       "      <td>12545</td>\n",
       "    </tr>\n",
       "    <tr>\n",
       "      <th>Ford</th>\n",
       "      <th>Escape</th>\n",
       "      <td>11861</td>\n",
       "    </tr>\n",
       "  </tbody>\n",
       "</table>\n",
       "</div>"
      ],
      "text/plain": [
       "               count\n",
       "make   model        \n",
       "Nissan Altima  19349\n",
       "Ford   F-150   14479\n",
       "       Fusion  12946\n",
       "Toyota Camry   12545\n",
       "Ford   Escape  11861"
      ]
     },
     "execution_count": 42,
     "metadata": {},
     "output_type": "execute_result"
    }
   ],
   "source": [
    "# Top 5 de los autos mas vendidos\n",
    "frec = df[['make','model']].value_counts()\n",
    "frec_df = pd.DataFrame(frec)\n",
    "frec_df.head()"
   ]
  },
  {
   "cell_type": "markdown",
   "metadata": {},
   "source": [
    "### Condición de los autos\n",
    "\n",
    "Mas alla de que la columna condición sea numerica, es una variable categórica y procedemos a realizar una agrupación por estado del coche y crear una nueva columna (Estado) para no pisar esos datos"
   ]
  },
  {
   "cell_type": "code",
   "execution_count": 146,
   "metadata": {},
   "outputs": [],
   "source": [
    "df['Estado'] = pd.cut(df['condition'], bins=[0, 10, 45, 50], labels=[\"Mal Estado\", \"Buen Estado\", \"Excelente Estado\"])"
   ]
  },
  {
   "cell_type": "markdown",
   "metadata": {},
   "source": [
    "Muestreo de los datos actualizados:"
   ]
  },
  {
   "cell_type": "code",
   "execution_count": 148,
   "metadata": {},
   "outputs": [
    {
     "data": {
      "text/html": [
       "<div>\n",
       "<style scoped>\n",
       "    .dataframe tbody tr th:only-of-type {\n",
       "        vertical-align: middle;\n",
       "    }\n",
       "\n",
       "    .dataframe tbody tr th {\n",
       "        vertical-align: top;\n",
       "    }\n",
       "\n",
       "    .dataframe thead th {\n",
       "        text-align: right;\n",
       "    }\n",
       "</style>\n",
       "<table border=\"1\" class=\"dataframe\">\n",
       "  <thead>\n",
       "    <tr style=\"text-align: right;\">\n",
       "      <th></th>\n",
       "      <th>condition</th>\n",
       "      <th>Estado</th>\n",
       "    </tr>\n",
       "  </thead>\n",
       "  <tbody>\n",
       "    <tr>\n",
       "      <th>310870</th>\n",
       "      <td>19.0</td>\n",
       "      <td>Buen Estado</td>\n",
       "    </tr>\n",
       "    <tr>\n",
       "      <th>275600</th>\n",
       "      <td>2.0</td>\n",
       "      <td>Mal Estado</td>\n",
       "    </tr>\n",
       "    <tr>\n",
       "      <th>507368</th>\n",
       "      <td>28.0</td>\n",
       "      <td>Buen Estado</td>\n",
       "    </tr>\n",
       "    <tr>\n",
       "      <th>240559</th>\n",
       "      <td>49.0</td>\n",
       "      <td>Excelente Estado</td>\n",
       "    </tr>\n",
       "    <tr>\n",
       "      <th>88452</th>\n",
       "      <td>36.0</td>\n",
       "      <td>Buen Estado</td>\n",
       "    </tr>\n",
       "  </tbody>\n",
       "</table>\n",
       "</div>"
      ],
      "text/plain": [
       "        condition            Estado\n",
       "310870       19.0       Buen Estado\n",
       "275600        2.0        Mal Estado\n",
       "507368       28.0       Buen Estado\n",
       "240559       49.0  Excelente Estado\n",
       "88452        36.0       Buen Estado"
      ]
     },
     "execution_count": 148,
     "metadata": {},
     "output_type": "execute_result"
    }
   ],
   "source": [
    "#Muestra de la nueva columna comparada con la columna anterior\n",
    "df['Estado'] = pd.Categorical(df['Estado'])\n",
    "df[['condition','Estado']].sample(n=5)"
   ]
  },
  {
   "cell_type": "code",
   "execution_count": 156,
   "metadata": {},
   "outputs": [
    {
     "data": {
      "text/html": [
       "<div>\n",
       "<style scoped>\n",
       "    .dataframe tbody tr th:only-of-type {\n",
       "        vertical-align: middle;\n",
       "    }\n",
       "\n",
       "    .dataframe tbody tr th {\n",
       "        vertical-align: top;\n",
       "    }\n",
       "\n",
       "    .dataframe thead th {\n",
       "        text-align: right;\n",
       "    }\n",
       "</style>\n",
       "<table border=\"1\" class=\"dataframe\">\n",
       "  <thead>\n",
       "    <tr style=\"text-align: right;\">\n",
       "      <th></th>\n",
       "      <th>make</th>\n",
       "      <th>model</th>\n",
       "      <th>year</th>\n",
       "      <th>odometer</th>\n",
       "      <th>condition</th>\n",
       "      <th>mmr</th>\n",
       "      <th>sellingprice</th>\n",
       "      <th>Gama</th>\n",
       "    </tr>\n",
       "  </thead>\n",
       "  <tbody>\n",
       "    <tr>\n",
       "      <th>209931</th>\n",
       "      <td>Hyundai</td>\n",
       "      <td>Sonata Hybrid</td>\n",
       "      <td>2012</td>\n",
       "      <td>27983.0</td>\n",
       "      <td>48.0</td>\n",
       "      <td>14100.0</td>\n",
       "      <td>14600.0</td>\n",
       "      <td>Gama Media</td>\n",
       "    </tr>\n",
       "    <tr>\n",
       "      <th>236730</th>\n",
       "      <td>Scion</td>\n",
       "      <td>iQ</td>\n",
       "      <td>2014</td>\n",
       "      <td>5093.0</td>\n",
       "      <td>47.0</td>\n",
       "      <td>10400.0</td>\n",
       "      <td>11700.0</td>\n",
       "      <td>Gama Media</td>\n",
       "    </tr>\n",
       "    <tr>\n",
       "      <th>96029</th>\n",
       "      <td>Toyota</td>\n",
       "      <td>Tacoma</td>\n",
       "      <td>2014</td>\n",
       "      <td>3984.0</td>\n",
       "      <td>49.0</td>\n",
       "      <td>30000.0</td>\n",
       "      <td>29100.0</td>\n",
       "      <td>Gama Alta</td>\n",
       "    </tr>\n",
       "    <tr>\n",
       "      <th>228841</th>\n",
       "      <td>Ford</td>\n",
       "      <td>F-250 Super Duty</td>\n",
       "      <td>2008</td>\n",
       "      <td>60880.0</td>\n",
       "      <td>47.0</td>\n",
       "      <td>27400.0</td>\n",
       "      <td>30800.0</td>\n",
       "      <td>Gama Media</td>\n",
       "    </tr>\n",
       "    <tr>\n",
       "      <th>387768</th>\n",
       "      <td>BMW</td>\n",
       "      <td>5 Series</td>\n",
       "      <td>2010</td>\n",
       "      <td>69619.0</td>\n",
       "      <td>48.0</td>\n",
       "      <td>17750.0</td>\n",
       "      <td>17700.0</td>\n",
       "      <td>Gama Media</td>\n",
       "    </tr>\n",
       "  </tbody>\n",
       "</table>\n",
       "</div>"
      ],
      "text/plain": [
       "           make             model  year  odometer  condition      mmr  \\\n",
       "209931  Hyundai     Sonata Hybrid  2012   27983.0       48.0  14100.0   \n",
       "236730    Scion                iQ  2014    5093.0       47.0  10400.0   \n",
       "96029    Toyota            Tacoma  2014    3984.0       49.0  30000.0   \n",
       "228841     Ford  F-250 Super Duty  2008   60880.0       47.0  27400.0   \n",
       "387768      BMW          5 Series  2010   69619.0       48.0  17750.0   \n",
       "\n",
       "        sellingprice        Gama  \n",
       "209931       14600.0  Gama Media  \n",
       "236730       11700.0  Gama Media  \n",
       "96029        29100.0   Gama Alta  \n",
       "228841       30800.0  Gama Media  \n",
       "387768       17700.0  Gama Media  "
      ]
     },
     "execution_count": 156,
     "metadata": {},
     "output_type": "execute_result"
    }
   ],
   "source": [
    "muestreo_excelente = df[df['Estado'] == 'Excelente Estado']\n",
    "muestreo_excelente[['make', 'model', 'year', 'odometer', 'condition', 'mmr', 'sellingprice']].sample(n=5)"
   ]
  },
  {
   "cell_type": "markdown",
   "metadata": {},
   "source": [
    "Para asegurarnos de que estemos categorizando bien segun el valor de la condicion del auto vemos una pequeña muestra de algunos valores."
   ]
  },
  {
   "cell_type": "code",
   "execution_count": 150,
   "metadata": {},
   "outputs": [
    {
     "name": "stderr",
     "output_type": "stream",
     "text": [
      "c:\\Users\\Maxi\\anaconda3\\Lib\\site-packages\\seaborn\\categorical.py:641: FutureWarning: The default of observed=False is deprecated and will be changed to True in a future version of pandas. Pass observed=False to retain current behavior or observed=True to adopt the future default and silence this warning.\n",
      "  grouped_vals = vals.groupby(grouper)\n"
     ]
    },
    {
     "data": {
      "image/png": "[encoded data removed]",
      "text/plain": [
       "<Figure size 800x600 with 1 Axes>"
      ]
     },
     "metadata": {},
     "output_type": "display_data"
    }
   ],
   "source": [
    "# Relación entre el precio de venta y la condición\n",
    "plt.figure(figsize=(8, 6))\n",
    "sns.barplot(x='Estado', y='sellingprice', data=df, alpha=0.5)\n",
    "plt.title('Precio de venta vs. Condición')\n",
    "plt.show()"
   ]
  },
  {
   "cell_type": "markdown",
   "metadata": {},
   "source": [
    "### Gama del auto\n",
    "\n",
    "Ademas de transformar la variable condición de númerica a categorica ahora categorizamos en [Gama Baja, Gama Media y Gama Alta] a los autos a través de una función para comprobar las siguientes hipótesis:\n",
    "\n",
    "#### Hipótesis\n",
    "1) ¿Es mayor el porcentaje de autos con transmisión manual que el de autos con transmisión automática dentro de la categoría de autos Gama Baja?\n",
    "2) Gama Media, ¿La condición/kilometraje del auto es un factor determinante para indicar el precio de un auto estándar?\n",
    "3) ¿Un auto de Gama Alta fabricado antes del 2010 se desvaloriza en el mercado con el paso del tiempo? ¿Infiere en esto la condición y/o el kilometraje del auto?"
   ]
  },
  {
   "cell_type": "code",
   "execution_count": 251,
   "metadata": {},
   "outputs": [],
   "source": [
    "# Función para categorizar autos según su gama contemplando varios parámetros.\n",
    "def categorizar_auto(row):\n",
    "    puntaje = 0\n",
    "    \n",
    "    if row['condition'] > 40:\n",
    "        puntaje += 2 \n",
    "    elif row['condition'] > 20:\n",
    "        puntaje += 1\n",
    "\n",
    "    if row['odometer'] < 10000:\n",
    "        puntaje += 2\n",
    "    elif row['odometer'] < 50000:\n",
    "        puntaje += 1\n",
    "    \n",
    "    if row['transmission'] == 'automatic':\n",
    "        puntaje += 1\n",
    "\n",
    "    umbral_mmr_medio = 11250\n",
    "    umbral_mmr_alto = 18300\n",
    "    if row['mmr'] > umbral_mmr_alto:\n",
    "        puntaje += 2\n",
    "    elif row['mmr'] > umbral_mmr_medio:\n",
    "        puntaje += 1\n",
    "\n",
    "    if puntaje >= 6:\n",
    "        return 'Gama Alta'\n",
    "    elif puntaje >= 3:\n",
    "        return 'Gama Media'\n",
    "    else:\n",
    "        return 'Gama Baja'\n",
    "\n",
    "df['Gama'] = df.apply(categorizar_auto, axis=1)"
   ]
  },
  {
   "cell_type": "code",
   "execution_count": 252,
   "metadata": {},
   "outputs": [
    {
     "data": {
      "text/html": [
       "<div>\n",
       "<style scoped>\n",
       "    .dataframe tbody tr th:only-of-type {\n",
       "        vertical-align: middle;\n",
       "    }\n",
       "\n",
       "    .dataframe tbody tr th {\n",
       "        vertical-align: top;\n",
       "    }\n",
       "\n",
       "    .dataframe thead th {\n",
       "        text-align: right;\n",
       "    }\n",
       "</style>\n",
       "<table border=\"1\" class=\"dataframe\">\n",
       "  <thead>\n",
       "    <tr style=\"text-align: right;\">\n",
       "      <th></th>\n",
       "      <th>Gama</th>\n",
       "      <th>transmission</th>\n",
       "      <th>Cantidad</th>\n",
       "    </tr>\n",
       "  </thead>\n",
       "  <tbody>\n",
       "    <tr>\n",
       "      <th>0</th>\n",
       "      <td>Gama Baja</td>\n",
       "      <td>automatic</td>\n",
       "      <td>196791</td>\n",
       "    </tr>\n",
       "    <tr>\n",
       "      <th>1</th>\n",
       "      <td>Gama Baja</td>\n",
       "      <td>manual</td>\n",
       "      <td>11282</td>\n",
       "    </tr>\n",
       "  </tbody>\n",
       "</table>\n",
       "</div>"
      ],
      "text/plain": [
       "        Gama transmission  Cantidad\n",
       "0  Gama Baja    automatic    196791\n",
       "1  Gama Baja       manual     11282"
      ]
     },
     "execution_count": 252,
     "metadata": {},
     "output_type": "execute_result"
    }
   ],
   "source": [
    "# Hipótesis 1:\n",
    "baja_trsm = df[(df.Gama == 'Gama Baja') & ((df.transmission == 'automatic') | (df.transmission == 'manual'))][['Gama', 'transmission']]\n",
    "\n",
    "df_baja_transmission = pd.DataFrame({'Cantidad': baja_trsm.value_counts()}).reset_index()\n",
    "df_baja_transmission"
   ]
  },
  {
   "cell_type": "code",
   "execution_count": 271,
   "metadata": {},
   "outputs": [
    {
     "data": {
      "image/png": "[encoded data removed]",
      "text/plain": [
       "<Figure size 800x400 with 1 Axes>"
      ]
     },
     "metadata": {},
     "output_type": "display_data"
    }
   ],
   "source": [
    "plt.figure(figsize=(8, 4))\n",
    "\n",
    "plt.pie(df_baja_transmission['Cantidad'], labels=['Automatic', 'Manual'], autopct='%1.2f%%')\n",
    "plt.title('Distribución de Transmisión en Autos de Gama Baja')\n",
    "plt.show()\n"
   ]
  },
  {
   "cell_type": "markdown",
   "metadata": {},
   "source": [
    "Nuestra primer hipotesis fue destruida con la información que observamos, destacando que aunque sea un auto de gama baja pondera la transmisón automática."
   ]
  },
  {
   "cell_type": "code",
   "execution_count": 254,
   "metadata": {},
   "outputs": [],
   "source": [
    "# Hipótesis 2:\n",
    "media_condition_odometer = df[df.Gama == 'Gama Media'][['Gama', 'odometer', 'Estado', 'sellingprice']].reset_index(drop=True)\n",
    "estado_mapping = {'Mal Estado': 0, 'Buen Estado': 1, 'Excelente Estado': 2}\n",
    "media_condition_odometer['Estado'] = media_condition_odometer['Estado'].map(estado_mapping)\n",
    "media_condition_odometer.dropna(subset=['odometer', 'Estado', 'sellingprice'], inplace=True)"
   ]
  },
  {
   "cell_type": "code",
   "execution_count": 255,
   "metadata": {},
   "outputs": [
    {
     "data": {
      "text/html": [
       "<div>\n",
       "<style scoped>\n",
       "    .dataframe tbody tr th:only-of-type {\n",
       "        vertical-align: middle;\n",
       "    }\n",
       "\n",
       "    .dataframe tbody tr th {\n",
       "        vertical-align: top;\n",
       "    }\n",
       "\n",
       "    .dataframe thead th {\n",
       "        text-align: right;\n",
       "    }\n",
       "</style>\n",
       "<table border=\"1\" class=\"dataframe\">\n",
       "  <thead>\n",
       "    <tr style=\"text-align: right;\">\n",
       "      <th></th>\n",
       "      <th>Estado</th>\n",
       "      <th>odometer</th>\n",
       "      <th>sellingprice</th>\n",
       "    </tr>\n",
       "  </thead>\n",
       "  <tbody>\n",
       "    <tr>\n",
       "      <th>Estado</th>\n",
       "      <td>1.000000</td>\n",
       "      <td>0.171693</td>\n",
       "      <td>-0.172420</td>\n",
       "    </tr>\n",
       "    <tr>\n",
       "      <th>odometer</th>\n",
       "      <td>0.171693</td>\n",
       "      <td>1.000000</td>\n",
       "      <td>-0.147183</td>\n",
       "    </tr>\n",
       "    <tr>\n",
       "      <th>sellingprice</th>\n",
       "      <td>-0.172420</td>\n",
       "      <td>-0.147183</td>\n",
       "      <td>1.000000</td>\n",
       "    </tr>\n",
       "  </tbody>\n",
       "</table>\n",
       "</div>"
      ],
      "text/plain": [
       "                Estado  odometer  sellingprice\n",
       "Estado        1.000000  0.171693     -0.172420\n",
       "odometer      0.171693  1.000000     -0.147183\n",
       "sellingprice -0.172420 -0.147183      1.000000"
      ]
     },
     "execution_count": 255,
     "metadata": {},
     "output_type": "execute_result"
    }
   ],
   "source": [
    "correlation = media_condition_odometer[['Estado', 'odometer', 'sellingprice']].corr()\n",
    "correlation"
   ]
  },
  {
   "cell_type": "markdown",
   "metadata": {},
   "source": [
    "## Mapa de Calor"
   ]
  },
  {
   "cell_type": "code",
   "execution_count": 256,
   "metadata": {},
   "outputs": [
    {
     "data": {
      "image/png": "[encoded data removed]",
      "text/plain": [
       "<Figure size 800x600 with 2 Axes>"
      ]
     },
     "metadata": {},
     "output_type": "display_data"
    }
   ],
   "source": [
    "plt.figure(figsize=(8, 6))\n",
    "heatmap = sns.heatmap(correlation, annot=True, cmap='coolwarm', fmt='.2f', vmin=-1, vmax=1, cbar_kws={'label': 'Correlación'})\n",
    "\n",
    "heatmap.set_xticklabels(['Estado', 'Odometer', 'Precio de Venta'])\n",
    "heatmap.set_yticklabels(['Estado', 'Odometer', 'Precio de Venta'], rotation=0)\n",
    "plt.title('Matriz de Correlación entre Estado, Kilometraje y Precio de Venta (Gama Media)')\n",
    "plt.show()"
   ]
  },
  {
   "cell_type": "markdown",
   "metadata": {},
   "source": [
    "##### Interpretación del Mapa de Calor:\n",
    "1) Estado vs. Precio de Venta (sellingprice):\n",
    "La correlación es negativa (-0,17), esto nos dice que a medida que la condición del auto mejora, el precio tiende a disminuir ligeramente, aunque la correlación es débil.\n",
    "\n",
    "2) Odometer (Odómetro) vs. Precio de Venta (sellingprice):\n",
    "La correlación también es negativa (-0,14), lo que indica que a medida que el kilometraje aumenta, el precio disminuye, aunque nuevamente, la correlación es débil.\n",
    "\n",
    "3) Estado vs. Odometer (Odómetro):\n",
    "Hay una pequeña correlación positiva (0,17), lo que sugiere que hay una tendencia a que los autos en mejor estado tengan un kilometraje levemente superior."
   ]
  },
  {
   "cell_type": "markdown",
   "metadata": {},
   "source": [
    "## Análisis de Regresión\n",
    "\n",
    "La correlación nos mostró una ligera relación entre las variables por lo que nos adentraremos un poco más en el análisis de esta hipótesis utilizando la librería [statsmodels], específicamente un modelo de regresión para obtener más información y definir si nuestra hipótesis se cumple o no."
   ]
  },
  {
   "cell_type": "code",
   "execution_count": 257,
   "metadata": {},
   "outputs": [
    {
     "name": "stdout",
     "output_type": "stream",
     "text": [
      "                            OLS Regression Results                            \n",
      "==============================================================================\n",
      "Dep. Variable:           sellingprice   R-squared:                       0.044\n",
      "Model:                            OLS   Adj. R-squared:                  0.044\n",
      "Method:                 Least Squares   F-statistic:                     6467.\n",
      "Date:                Sat, 17 Aug 2024   Prob (F-statistic):               0.00\n",
      "Time:                        18:20:07   Log-Likelihood:            -2.8971e+06\n",
      "No. Observations:              281206   AIC:                         5.794e+06\n",
      "Df Residuals:                  281203   BIC:                         5.794e+06\n",
      "Df Model:                           2                                         \n",
      "Covariance Type:            nonrobust                                         \n",
      "==============================================================================\n",
      "                 coef    std err          t      P>|t|      [0.025      0.975]\n",
      "------------------------------------------------------------------------------\n",
      "const       2.005e+04     35.204    569.594      0.000       2e+04    2.01e+04\n",
      "Estado     -2441.7979     30.142    -81.009      0.000   -2500.876   -2382.720\n",
      "odometer      -0.0306      0.000    -64.730      0.000      -0.031      -0.030\n",
      "==============================================================================\n",
      "Omnibus:                   177620.749   Durbin-Watson:                   1.413\n",
      "Prob(Omnibus):                  0.000   Jarque-Bera (JB):          4812779.595\n",
      "Skew:                           2.603   Prob(JB):                         0.00\n",
      "Kurtosis:                      22.587   Cond. No.                     1.67e+05\n",
      "==============================================================================\n",
      "\n",
      "Notes:\n",
      "[1] Standard Errors assume that the covariance matrix of the errors is correctly specified.\n",
      "[2] The condition number is large, 1.67e+05. This might indicate that there are\n",
      "strong multicollinearity or other numerical problems.\n"
     ]
    }
   ],
   "source": [
    "import statsmodels.api as sm\n",
    "\n",
    "# Variables independientes y dependientes\n",
    "X = media_condition_odometer[['Estado', 'odometer']]\n",
    "y = media_condition_odometer['sellingprice']\n",
    "\n",
    "X = sm.add_constant(X)\n",
    "\n",
    "model = sm.OLS(y, X).fit()\n",
    "print(model.summary())"
   ]
  },
  {
   "cell_type": "markdown",
   "metadata": {},
   "source": [
    "##### Interpretación del Resumen de la Regresión\n",
    "Coeficientes:\n",
    "\n",
    "Constante (const): 20050,00. Este es el valor estimado del precio de venta cuando Estado y odometer son cero.\n",
    "\n",
    "Estado: -2441,8. Cada cambio en la categoría de Estado se asocia con una disminución de aproximadamente 2441,8 en el precio de venta. El valor p es 0,000 lo que indica que este coeficiente es estadísticamente significativo.\n",
    "\n",
    "odometer: -0,0306. Cada incremento en el kilometraje se asocia con una disminución de 0,0306 en el precio de venta. El valor p es 0,000 lo que también indica significancia estadística.\n",
    "\n",
    "##### Conclusión:\n",
    "Finalizando nuestra exploración se entiende que el estado del auto si tiene una gran influencia sobre el precio de venta de autos \"estándar\", pero no así el kilometraje ya que es sumamente leve el impacto en el precio en comparación con el estado en que se encuentre el auto."
   ]
  },
  {
   "cell_type": "code",
   "execution_count": 317,
   "metadata": {},
   "outputs": [],
   "source": [
    "# Hipótesis 3\n",
    "alta_condition = df[(df.Gama == 'Gama Alta') & (df.year <= 2010)][['year', 'make' ,'model', 'Gama', 'Estado', 'odometer', 'mmr', 'sellingprice']].reset_index(drop=True)"
   ]
  },
  {
   "cell_type": "code",
   "execution_count": 318,
   "metadata": {},
   "outputs": [
    {
     "data": {
      "text/plain": [
       "Estado\n",
       "Buen Estado         869\n",
       "Excelente Estado    383\n",
       "Mal Estado            0\n",
       "Name: count, dtype: int64"
      ]
     },
     "execution_count": 318,
     "metadata": {},
     "output_type": "execute_result"
    }
   ],
   "source": [
    "alta_condition['Estado'].value_counts()\n"
   ]
  },
  {
   "cell_type": "code",
   "execution_count": 328,
   "metadata": {},
   "outputs": [
    {
     "name": "stderr",
     "output_type": "stream",
     "text": [
      "c:\\Users\\Maxi\\anaconda3\\Lib\\site-packages\\seaborn\\_oldcore.py:1119: FutureWarning: use_inf_as_na option is deprecated and will be removed in a future version. Convert inf values to NaN before operating instead.\n",
      "  with pd.option_context('mode.use_inf_as_na', True):\n",
      "c:\\Users\\Maxi\\anaconda3\\Lib\\site-packages\\seaborn\\_oldcore.py:1119: FutureWarning: use_inf_as_na option is deprecated and will be removed in a future version. Convert inf values to NaN before operating instead.\n",
      "  with pd.option_context('mode.use_inf_as_na', True):\n"
     ]
    },
    {
     "data": {
      "image/png": "[encoded data removed]",
      "text/plain": [
       "<Figure size 1200x600 with 1 Axes>"
      ]
     },
     "metadata": {},
     "output_type": "display_data"
    }
   ],
   "source": [
    "# Convertir 'Estado' a una variable categórica con valores numéricos si es necesario\n",
    "alta_condition['Estado_num'] = alta_condition['Estado'].astype('category').cat.codes\n",
    "\n",
    "plt.figure(figsize=(12, 6))\n",
    "sns.scatterplot(x='year', y='sellingprice', hue='Estado', data=alta_condition, palette='viridis')\n",
    "sns.lineplot(x='year', y='sellingprice', data=alta_condition, estimator='mean', color='black', linewidth=1.5)\n",
    "plt.title('Precio de Venta vs Año de Fabricación para Autos de Gama Alta')\n",
    "plt.xlabel('Año de Fabricación')\n",
    "plt.ylabel('Precio de Venta')\n",
    "plt.legend(title='Estado del Auto')\n",
    "plt.show()"
   ]
  },
  {
   "cell_type": "markdown",
   "metadata": {},
   "source": [
    "Observamos que a medida que transcurren los años los precios de venta no tienen grandes variaciones que causen un alto impacto hasta 2005 y años posteriores.\n",
    "Allí podemos ver más outliers en lo que son autos de Excelente Estado y Buen Estado."
   ]
  },
  {
   "cell_type": "code",
   "execution_count": 329,
   "metadata": {},
   "outputs": [
    {
     "name": "stderr",
     "output_type": "stream",
     "text": [
      "c:\\Users\\Maxi\\anaconda3\\Lib\\site-packages\\seaborn\\categorical.py:641: FutureWarning: The default of observed=False is deprecated and will be changed to True in a future version of pandas. Pass observed=False to retain current behavior or observed=True to adopt the future default and silence this warning.\n",
      "  grouped_vals = vals.groupby(grouper)\n"
     ]
    },
    {
     "data": {
      "image/png": "[encoded data removed]",
      "text/plain": [
       "<Figure size 1000x800 with 1 Axes>"
      ]
     },
     "metadata": {},
     "output_type": "display_data"
    }
   ],
   "source": [
    "plt.figure(figsize=(10, 8))\n",
    "sns.boxplot(x='Estado', y='sellingprice', data=alta_condition)\n",
    "plt.title('Comparación del Precio de Venta por Estado del Auto')\n",
    "plt.xlabel('Estado del Auto')\n",
    "plt.ylabel('Precio de Venta')\n",
    "plt.show()"
   ]
  },
  {
   "cell_type": "markdown",
   "metadata": {},
   "source": [
    "Misma observación en cuanto a los outliers pero con un gráfico más representativo en cuanto a los otuliers."
   ]
  },
  {
   "cell_type": "markdown",
   "metadata": {},
   "source": [
    "### Análisis Estádistico de Regresión Lineal"
   ]
  },
  {
   "cell_type": "code",
   "execution_count": 303,
   "metadata": {},
   "outputs": [
    {
     "name": "stdout",
     "output_type": "stream",
     "text": [
      "                            OLS Regression Results                            \n",
      "==============================================================================\n",
      "Dep. Variable:           sellingprice   R-squared:                       0.959\n",
      "Model:                            OLS   Adj. R-squared:                  0.959\n",
      "Method:                 Least Squares   F-statistic:                     7291.\n",
      "Date:                Sat, 17 Aug 2024   Prob (F-statistic):               0.00\n",
      "Time:                        18:33:01   Log-Likelihood:                -11718.\n",
      "No. Observations:                1252   AIC:                         2.345e+04\n",
      "Df Residuals:                    1247   BIC:                         2.347e+04\n",
      "Df Model:                           4                                         \n",
      "Covariance Type:            nonrobust                                         \n",
      "==============================================================================\n",
      "                 coef    std err          t      P>|t|      [0.025      0.975]\n",
      "------------------------------------------------------------------------------\n",
      "const       2.242e+05   9.56e+04      2.346      0.019    3.67e+04    4.12e+05\n",
      "year        -111.5662     47.592     -2.344      0.019    -204.936     -18.196\n",
      "Estado_num   776.8942    174.197      4.460      0.000     435.142    1118.646\n",
      "odometer       0.0176      0.006      2.761      0.006       0.005       0.030\n",
      "mmr            0.9719      0.006    166.967      0.000       0.960       0.983\n",
      "==============================================================================\n",
      "Omnibus:                      386.110   Durbin-Watson:                   2.015\n",
      "Prob(Omnibus):                  0.000   Jarque-Bera (JB):             7687.164\n",
      "Skew:                          -0.919   Prob(JB):                         0.00\n",
      "Kurtosis:                      14.999   Cond. No.                     5.40e+07\n",
      "==============================================================================\n",
      "\n",
      "Notes:\n",
      "[1] Standard Errors assume that the covariance matrix of the errors is correctly specified.\n",
      "[2] The condition number is large, 5.4e+07. This might indicate that there are\n",
      "strong multicollinearity or other numerical problems.\n"
     ]
    }
   ],
   "source": [
    "import statsmodels.api as sm\n",
    "\n",
    "# Definir variables dependientes e independientes\n",
    "X = alta_condition[['year', 'Estado_num', 'odometer', 'mmr']]\n",
    "y = alta_condition['sellingprice']\n",
    "\n",
    "X = sm.add_constant(X)\n",
    "\n",
    "model = sm.OLS(y, X).fit()\n",
    "\n",
    "print(model.summary())"
   ]
  },
  {
   "cell_type": "markdown",
   "metadata": {},
   "source": [
    "#### Interpretación de los datos:\n",
    "\n",
    "- const: 224.200 - Precio base de los autos en el modelo cuando las demas variables se establecen en 0.\n",
    "- year: -111,57 - Cada año adicional disminuye el precio en promedio en 111,57 dólares (estimando que el precio de venta está en dicha moneda). Esto nos hace entender que en promedio los autos tienden a perder valor con el tiempo.\n",
    "- Estado_num: 776,89 - Cuanto más alta es la condición del auto es más notorio el incremento en el precio de 776,89 dólares.\n",
    "- odometer: 0,0176 - Aunque el odómoetro tenga un kilometraje muy alto el incremento en el precio es de 0,0176 dólares. Por lo que la relación es positiva pero la ponderación de esta variable es muy pequeña.\n",
    "- mmr: 0,9719 - Cada unidad de incremento en el MMR está asociada con un aumento en el precio de 0,9719 unidades. Esto muestra una fuerte correlación positiva entre el MMR y el precio de venta.\n",
    "\n",
    "##### Estádisticos:\n",
    "Un 𝑅2 de 0,959 nos dice que el modelo explica casi el 96% de la variabilidad en el precio de venta. Es un indicador de que el modelo se ajusta muy bien a los datos.\n",
    "P-values: Todos los coeficientes tienen p-values menores a 0,05, lo que indica que son estadísticamente significativos.\n",
    "\n",
    "\n",
    "### Conclusión\n",
    "El precio de los autos de Gama Alta fabricados antes del 2010 se desvaloriza con el tiempo, pero la condición del auto tiene un impacto positivo y significativo en el precio de venta, lo que sugiere que los autos en mejor estado se devalúan menos o incluso pueden mantener o aumentar su valor, mientras que el kilometraje parece tener un impacto menor."
   ]
  }
 ],
 "metadata": {
  "kernelspec": {
   "display_name": "base",
   "language": "python",
   "name": "python3"
  },
  "language_info": {
   "codemirror_mode": {
    "name": "ipython",
    "version": 3
   },
   "file_extension": ".py",
   "mimetype": "text/x-python",
   "name": "python",
   "nbconvert_exporter": "python",
   "pygments_lexer": "ipython3",
   "version": "3.11.7"
  }
 },
 "nbformat": 4,
 "nbformat_minor": 2
}
